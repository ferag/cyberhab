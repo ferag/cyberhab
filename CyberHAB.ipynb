{
 "cells": [
  {
   "cell_type": "markdown",
   "metadata": {},
   "source": [
    "# CyberHAB\n",
    "<div class=\"row\" style=\"clear:both;display: table;\">\n",
    "<div class=\"column\" style=\"float: left;width: 25%;padding: 5px;\">\n",
    "    <img style=\"width:100%; height:50%\" src=\"http://ecohydros.es/wp-content/uploads/2018/12/marcaguaECOHYDROS-04.png\">\n",
    "</div>\n",
    "<div class=\"column\" style=\"float: left;width: 25%;padding: 5px;\">\n",
    "<img style=\"width:70%; height:50%\" src=\"https://www.santandercreativa.com/ekh2983gd29837gt_uploads/web_2/organizaciones_images/image_organizacion_final_425_2015-03-24_12_58_49.jpg\">\n",
    "</div>\n",
    "<div class=\"column\" style=\"float: left;width: 25%;padding: 5px;\">\n",
    "<img style=\"width:70%; height:50%\" \n",
    "src=\"https://www.eosc-hub.eu/sites/all/themes/theme1/logo.png\">\n",
    "</div>\n",
    "</div>"
   ]
  },
  {
   "cell_type": "code",
   "execution_count": 13,
   "metadata": {},
   "outputs": [],
   "source": [
    "%run -i notebook.py"
   ]
  },
  {
   "cell_type": "code",
   "execution_count": 14,
   "metadata": {},
   "outputs": [
    {
     "data": {
      "application/vnd.jupyter.widget-view+json": {
       "model_id": "fb3a8702239c46bc81b7a524364b01a2",
       "version_major": 2,
       "version_minor": 0
      },
      "text/plain": [
       "VBox(children=(VBox(children=(Text(value='MDAxNWxvY2F00aW9uIG9uZXpvbmUKMDAzMGlkZW500aWZpZXIgYTQwODdhYWJkYWVhMG…"
      ]
     },
     "metadata": {},
     "output_type": "display_data"
    }
   ],
   "source": [
    "onedata_wid = widgets.Text(\n",
    "    value='',\n",
    "    placeholder='Onedata token',\n",
    "    description='Onedata token:',\n",
    "    disabled=False\n",
    ")\n",
    "onedata_wid.value = os.environ['ONECLIENT_AUTHORIZATION_TOKEN']\n",
    "\n",
    "region_buttons = widgets.ToggleButtons(\n",
    "    options=['CdP','Sanabria'],\n",
    "    description='Reservoirs:',\n",
    ")\n",
    "ini_date = widgets.DatePicker(\n",
    "    description='Initial Date',\n",
    "    disabled=False\n",
    ")\n",
    "end_date = widgets.DatePicker(\n",
    "    description='End Date',\n",
    "    disabled=False\n",
    ")\n",
    "actions = widgets.SelectMultiple(\n",
    "    options=['meteo', 'water_mask', 'water_surface', 'cloud_mask', 'cloud_coverage', 'list_files', 'model'],\n",
    "    value=['meteo'],\n",
    "    #rows=10,\n",
    "    description='Actions',\n",
    "    disabled=False\n",
    ")\n",
    "tab = VBox(children=[onedata_wid, region_buttons, ini_date, end_date, actions])\n",
    "\n",
    "button = widgets.Button(\n",
    "    description='Run',\n",
    ")\n",
    "\n",
    "last_model=''\n",
    "\n",
    "out = widgets.Output()\n",
    "@button.on_click\n",
    "def plot_on_click(b):\n",
    "    with out:\n",
    "        clear_output()\n",
    "        if actions.value[0] == 'meteo':\n",
    "            plot_meteo(region_buttons,ini_date,end_date,actions)\n",
    "        elif actions.value[0] == 'list_files':\n",
    "            find_dataset_type(ini_date.value,end_date.value,'',onedata_wid.value)\n",
    "        elif actions.value[0] == 'model':\n",
    "            last_model=prepare_model(ini_date.value,end_date.value, region_buttons.value, '/home/jovyan/datasets/cyberhab/')\n",
    "        else:\n",
    "            plot_satellite(region_buttons,ini_date,end_date,actions)\n",
    "\n",
    "VBox(children=[tab,button,out])"
   ]
  },
  {
   "cell_type": "code",
   "execution_count": 15,
   "metadata": {},
   "outputs": [
    {
     "name": "stdout",
     "output_type": "stream",
     "text": [
      "Rquesting access token: 200\n",
      "Status code: 200\n",
      "{\n",
      "  \"createdBy\": {\n",
      "    \"issuer\": \"https://iam-test.indigo-datacloud.eu/\",\n",
      "    \"subject\": \"e21da9c3-6355-4e90-afb7-4f7fd063fe8c\"\n",
      "  },\n",
      "  \"creationTime\": \"2019-03-29T14:07+0000\",\n",
      "  \"links\": [\n",
      "    {\n",
      "      \"href\": \"https://indigo-paas.cloud.ba.infn.it/orchestrator/deployments/11e9522c-0e85-5b57-b1e4-024210c02e91\",\n",
      "      \"rel\": \"self\"\n",
      "    },\n",
      "    {\n",
      "      \"href\": \"https://indigo-paas.cloud.ba.infn.it/orchestrator/deployments/11e9522c-0e85-5b57-b1e4-024210c02e91/resources\",\n",
      "      \"rel\": \"resources\"\n",
      "    },\n",
      "    {\n",
      "      \"href\": \"https://indigo-paas.cloud.ba.infn.it/orchestrator/deployments/11e9522c-0e85-5b57-b1e4-024210c02e91/template\",\n",
      "      \"rel\": \"template\"\n",
      "    }\n",
      "  ],\n",
      "  \"outputs\": {},\n",
      "  \"status\": \"CREATE_IN_PROGRESS\",\n",
      "  \"task\": \"NONE\",\n",
      "  \"updateTime\": \"2019-03-29T14:07+0000\",\n",
      "  \"uuid\": \"11e9522c-0e85-5b57-b1e4-024210c02e91\"\n",
      "}\n"
     ]
    },
    {
     "data": {
      "text/plain": [
       "b'{\"uuid\":\"11e9522c-0e85-5b57-b1e4-024210c02e91\",\"creationTime\":\"2019-03-29T14:07+0000\",\"updateTime\":\"2019-03-29T14:07+0000\",\"status\":\"CREATE_IN_PROGRESS\",\"outputs\":{},\"task\":\"NONE\",\"createdBy\":{\"issuer\":\"https://iam-test.indigo-datacloud.eu/\",\"subject\":\"e21da9c3-6355-4e90-afb7-4f7fd063fe8c\"},\"links\":[{\"rel\":\"self\",\"href\":\"https://indigo-paas.cloud.ba.infn.it/orchestrator/deployments/11e9522c-0e85-5b57-b1e4-024210c02e91\"},{\"rel\":\"resources\",\"href\":\"https://indigo-paas.cloud.ba.infn.it/orchestrator/deployments/11e9522c-0e85-5b57-b1e4-024210c02e91/resources\"},{\"rel\":\"template\",\"href\":\"https://indigo-paas.cloud.ba.infn.it/orchestrator/deployments/11e9522c-0e85-5b57-b1e4-024210c02e91/template\"}]}'"
      ]
     },
     "execution_count": 15,
     "metadata": {},
     "output_type": "execute_result"
    }
   ],
   "source": [
    "orchestrator_job_status('11e9522c-0e85-5b57-b1e4-024210c02e91')"
   ]
  },
  {
   "cell_type": "markdown",
   "metadata": {},
   "source": [
    "### Data Visualization"
   ]
  },
  {
   "cell_type": "code",
   "execution_count": 3,
   "metadata": {},
   "outputs": [
    {
     "name": "stdout",
     "output_type": "stream",
     "text": [
      "Searching models\n"
     ]
    },
    {
     "data": {
      "application/vnd.jupyter.widget-view+json": {
       "model_id": "2d6e725204c840129f7380ccf97ef2b2",
       "version_major": 2,
       "version_minor": 0
      },
      "text/plain": [
       "VBox(children=(Select(description='Models', options=(), value=None), IntSlider(value=7, continuous_update=Fals…"
      ]
     },
     "metadata": {},
     "output_type": "display_data"
    }
   ],
   "source": [
    "onedata_token = os.environ['ONECLIENT_AUTHORIZATION_TOKEN']\n",
    "models = find_models(onedata_token)\n",
    "opt = []\n",
    "for e in models:\n",
    "    opt.append(e['key']['region']+'/model_'+e['key']['beginDate']+'_'+e['key']['endDate']+'/trim-test_1.nc')\n",
    "\n",
    "selection = widgets.Select(\n",
    "    options=opt,\n",
    "    value=None,\n",
    "    # rows=10,\n",
    "    description='Models',\n",
    "    disabled=False\n",
    ")\n",
    "\n",
    "depth_wid = widgets.IntSlider(\n",
    "    value=7,\n",
    "    min=0,\n",
    "    max=35,\n",
    "    step=1,\n",
    "    description='Test:',\n",
    "    disabled=False,\n",
    "    continuous_update=False,\n",
    "    orientation='horizontal',\n",
    "    readout=True,\n",
    "    readout_format='d'\n",
    ")\n",
    "button = widgets.Button(\n",
    "    description='Show model output',\n",
    ")\n",
    "\n",
    "out2 = widgets.Output()\n",
    "\n",
    "@button.on_click\n",
    "def model_on_click(b):\n",
    "    with out2:\n",
    "        clear_output()\n",
    "        for e in models:\n",
    "            temp_map('/home/jovyan/datasets/LifeWatch/' + selection.value, e['key']['beginDate']+' 00:00:00', e['key']['endDate']+' 01:00:00', depth_wid.value)\n",
    "            break\n",
    "\n",
    "VBox(children=[selection,depth_wid,button,out2])"
   ]
  }
 ],
 "metadata": {
  "kernelspec": {
   "display_name": "Python 3",
   "language": "python",
   "name": "python3"
  },
  "language_info": {
   "codemirror_mode": {
    "name": "ipython",
    "version": 3
   },
   "file_extension": ".py",
   "mimetype": "text/x-python",
   "name": "python",
   "nbconvert_exporter": "python",
   "pygments_lexer": "ipython3",
   "version": "3.6.7"
  }
 },
 "nbformat": 4,
 "nbformat_minor": 2
}
