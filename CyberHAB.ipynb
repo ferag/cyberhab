{
 "cells": [
  {
   "cell_type": "markdown",
   "metadata": {},
   "source": [
    "# CyberHAB\n",
    "<div class=\"row\" style=\"clear:both;display: table;\">\n",
    "<div class=\"column\" style=\"float: left;width: 25%;padding: 5px;\">\n",
    "    <img style=\"width:100%; height:50%\" src=\"http://ecohydros.es/wp-content/uploads/2018/12/marcaguaECOHYDROS-04.png\">\n",
    "</div>\n",
    "<div class=\"column\" style=\"float: left;width: 25%;padding: 5px;\">\n",
    "<img style=\"width:100%; height:50%\" src=\"https://www.santandercreativa.com/ekh2983gd29837gt_uploads/web_2/organizaciones_images/image_organizacion_final_425_2015-03-24_12_58_49.jpg\">\n",
    "</div>\n",
    "</div>"
   ]
  },
  {
   "cell_type": "code",
   "execution_count": 52,
   "metadata": {},
   "outputs": [],
   "source": [
    "%run -i notebook.py"
   ]
  },
  {
   "cell_type": "code",
   "execution_count": 36,
   "metadata": {},
   "outputs": [
    {
     "data": {
      "application/vnd.jupyter.widget-view+json": {
       "model_id": "a23c3e145f144d6fbc1c33a675b80bdf",
       "version_major": 2,
       "version_minor": 0
      },
      "text/plain": [
       "VBox(children=(VBox(children=(Text(value='', description='Onedata token:', placeholder='Onedata token'), Toggl…"
      ]
     },
     "metadata": {},
     "output_type": "display_data"
    }
   ],
   "source": [
    "onedata_wid = widgets.Text(\n",
    "    value='',\n",
    "    placeholder='Onedata token',\n",
    "    description='Onedata token:',\n",
    "    disabled=False\n",
    ")\n",
    "\n",
    "region_buttons = widgets.ToggleButtons(\n",
    "    options=['CdP'],\n",
    "    description='Reservoirs:',\n",
    ")\n",
    "ini_date = widgets.DatePicker(\n",
    "    description='Initial Date',\n",
    "    disabled=False\n",
    ")\n",
    "end_date = widgets.DatePicker(\n",
    "    description='End Date',\n",
    "    disabled=False\n",
    ")\n",
    "actions = widgets.SelectMultiple(\n",
    "    options=['meteo', 'water_mask', 'water_surface', 'cloud_mask', 'cloud_coverage', 'list_files', 'model'],\n",
    "    value=['meteo'],\n",
    "    #rows=10,\n",
    "    description='Actions',\n",
    "    disabled=False\n",
    ")\n",
    "tab = VBox(children=[onedata_wid, region_buttons, ini_date, end_date, actions])\n",
    "\n",
    "button = widgets.Button(\n",
    "    description='Run',\n",
    ")\n",
    "\n",
    "out = widgets.Output()\n",
    "@button.on_click\n",
    "def plot_on_click(b):\n",
    "    with out:\n",
    "        clear_output()\n",
    "        if actions.value[0] == 'meteo':\n",
    "            plot_meteo(region_buttons,ini_date,end_date,actions)\n",
    "        elif actions.value[0] == 'list_files':\n",
    "            find_dataset_type(ini_date.value,end_date.value,'',onedata_wid.value)\n",
    "        elif actions.value[0] == 'model':\n",
    "            prepare_model(ini_date.value,end_date.value, region_buttons.value, '/home/jovyan/datasets/LifeWatch/')\n",
    "        else:\n",
    "            plot_satellite(region_buttons,ini_date,end_date,actions)\n",
    "\n",
    "VBox(children=[tab,button,out])"
   ]
  },
  {
   "cell_type": "markdown",
   "metadata": {},
   "source": [
    "### Data Visualization"
   ]
  }
 ],
 "metadata": {
  "kernelspec": {
   "display_name": "Python 3",
   "language": "python",
   "name": "python3"
  },
  "language_info": {
   "codemirror_mode": {
    "name": "ipython",
    "version": 3
   },
   "file_extension": ".py",
   "mimetype": "text/x-python",
   "name": "python",
   "nbconvert_exporter": "python",
   "pygments_lexer": "ipython3",
   "version": "3.6.8"
  }
 },
 "nbformat": 4,
 "nbformat_minor": 2
}
